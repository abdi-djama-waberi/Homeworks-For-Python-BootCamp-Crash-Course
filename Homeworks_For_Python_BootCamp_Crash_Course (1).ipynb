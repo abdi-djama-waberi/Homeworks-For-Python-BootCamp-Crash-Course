{
  "nbformat": 4,
  "nbformat_minor": 0,
  "metadata": {
    "colab": {
      "provenance": []
    },
    "kernelspec": {
      "name": "python3",
      "display_name": "Python 3"
    },
    "language_info": {
      "name": "python"
    }
  },
  "cells": [
    {
      "cell_type": "markdown",
      "source": [
        "**Homework** **1**   using if else\n",
        "\n",
        "\n",
        "\n",
        "\n",
        "\n",
        "\n",
        "\n",
        "\n",
        "\n",
        "\n",
        "\n",
        "\n"
      ],
      "metadata": {
        "id": "GaCXxiB7v_C8"
      }
    },
    {
      "cell_type": "code",
      "source": [
        "bmi=0\n",
        "weight=0\n",
        "height=0\n",
        "weight=float(input(\"Please enter your weight in kilogrom ? \"))\n",
        "if weight<=0 :\n",
        "   weight=float(input(\"Please enter again your weight in kilogrom  and   negative or zero  is not accepted  \"))\n",
        "   if weight<=0:\n",
        "       weight=float(input(\"Please enter again your weight in kilogrom  and   negative or zero  is not accepted  \"))\n",
        "\n",
        "height=float(input(\"Please enter your height in metric ? \"))\n",
        "if height<=0:\n",
        "   height=float(input(\"Please enter enter your height in metric again because  negative or zero  is not accepted  \"))\n",
        "   if height<=0:\n",
        "    height=float(input(\"Please enter enter your height in metric again because  negative is zero not accepted  \"))\n",
        "\n",
        "\n",
        "bmi=weight/(height**2)\n",
        "if bmi<18.5:\n",
        "  print(f\"Your bmi is: {round(bmi,2)} and you are underweight\")\n",
        "elif bmi <=24.9:\n",
        "    print(f\"Your bmi is : {round(bmi,2)} and you are normal weight\")\n",
        "elif bmi <=29.9:\n",
        "    print(f\"Your bmi is {round(bmi,2)} and you are overweight\")\n",
        "else:\n",
        "  print(f\"Your bmi is {round(bmi,2)} and you are obsite\")\n",
        "\n",
        "\n",
        "\n"
      ],
      "metadata": {
        "colab": {
          "base_uri": "https://localhost:8080/"
        },
        "id": "sJuOR1wJYMN_",
        "outputId": "d6d3a5f6-2cce-4af5-82ad-bb7cd35950b3"
      },
      "execution_count": null,
      "outputs": [
        {
          "output_type": "stream",
          "name": "stdout",
          "text": [
            "Please enter your weight in kilogrom ? 70\n",
            "Please enter your height in metric ? 1.75\n",
            "Your bmi is : 22.86 and you are normal weight\n"
          ]
        }
      ]
    },
    {
      "cell_type": "markdown",
      "source": [
        "**Homework** **1** **updated** **with** **functions**\n"
      ],
      "metadata": {
        "id": "YQTfp-nIw5ao"
      }
    },
    {
      "cell_type": "code",
      "source": [
        "def calculate_bmi(weight,height):\n",
        "\n",
        "  bmi=weight/(height**2)\n",
        "  bmi_convert=weight* 2.20462/((height**2)*39.3701)\n",
        "  if bmi<18.5:\n",
        "    print(f\"Your bmi is: {round(bmi,2)} kg/m2 and you are underweight\")\n",
        "  elif bmi <=24.9:\n",
        "    print(f\"Your bmi is : {round(bmi,2)} kg/m2 and you are normal weight\")\n",
        "  elif bmi <=29.9:\n",
        "    print(f\"Your bmi is {round(bmi,2)} kg/m2 and you are overweight\")\n",
        "  else:\n",
        "    print(f\"Your bmi is {round(bmi,2)} kg/m21. and you are obsite\")\n",
        "\n",
        "\n",
        "\n",
        "def weight_hight():\n",
        "  weight=float(input(\"Please enter your weight in kilogrom ? \"))\n",
        "  height=float(input(\"Please enter your height in metric ? \"))\n",
        "  if weight<=0:\n",
        "    weight=float(input(\"Please enter again your weight in kilogrom     negative or zero  is not accepted  \"))\n",
        "    while weight<=0:\n",
        "      weight=float(input(\"Please enter again your weight in kilogrom     negative or zero  is not accepted  \"))\n",
        "  if height<=0:\n",
        "    height=float(input(\"Please enter enter your height in metric again because  negative or zero  is not accepted  \"))\n",
        "    while height<=0:\n",
        "       height=float(input(\"Please enter enter your height in metric again because  negative or zero  is not accepted  \"))\n",
        "  return weight,height\n",
        "\n",
        "\n",
        "\n",
        "weight,height=weight_hight()\n",
        "\n",
        "calculate_bmi(weight,height)\n",
        "\n"
      ],
      "metadata": {
        "id": "8nSL1cPCYMee",
        "colab": {
          "base_uri": "https://localhost:8080/"
        },
        "outputId": "9f0639f9-d7f8-4763-a144-849526c32ebb"
      },
      "execution_count": 20,
      "outputs": [
        {
          "output_type": "stream",
          "name": "stdout",
          "text": [
            "Please enter your weight in kilogrom ? 70\n",
            "Please enter your height in metric ? 1.75\n",
            "Your bmi is : 22.86 kg/m2 and you are normal weight\n"
          ]
        }
      ]
    },
    {
      "cell_type": "markdown",
      "source": [
        "**Homework** **2** **loops**"
      ],
      "metadata": {
        "id": "PqRgXSd4yDH0"
      }
    },
    {
      "cell_type": "code",
      "source": [
        "row=int(input(\"Enter the number of row for the game board : \"))\n",
        "col=int(input(\"Enter the number of column for the game board : \"))\n",
        "board=[[0]*col]*row\n",
        "#board= { (i,j):0 for i in range(row) for j in range(col) }\n",
        "hide=\"T\"\n",
        "choose_row=int(input(\"Choose  the number of row to hide  Treasure : \"))\n",
        "if choose_row>row:\n",
        "  choose_row=int(input(\"Choose  again  number  less then number of  row to : \"))\n",
        "  while choose_row>row:\n",
        "    choose_row=int(input(\"Choose  again  number  less then number of  row to : \"))\n",
        "\n",
        "choose_column=int(input(\"Choose   number of column to hide  Treasure : \"))\n",
        "if choose_column>col:\n",
        "  choose_column=int(input(\"Choose  again  number  less then number of  column  to : \"))\n",
        "  while choose_column>col:\n",
        "       choose_column=int(input(\"Choose  again  number  less then number of  column  to : \"))\n",
        "for i in range(row):\n",
        "  for j in range(col):\n",
        "    board[j][i]='*'\n",
        "\n",
        "board[choose_column] [choose_row]=hide\n",
        "\n",
        "for i in range(row):\n",
        "  for j in range(col):\n",
        "    print(board[j][i],end=\"\")\n",
        "  print()\n"
      ],
      "metadata": {
        "id": "3bupq9zOyJwz",
        "colab": {
          "base_uri": "https://localhost:8080/"
        },
        "outputId": "4c605616-6424-4435-c249-6a02aaa407df"
      },
      "execution_count": 4,
      "outputs": [
        {
          "output_type": "stream",
          "name": "stdout",
          "text": [
            "Enter the number of row for the game board : 5\n",
            "Enter the number of column for the game board : 5\n",
            "Choose  the number of row to hide  Treasure : 2\n",
            "Choose   number of column to hide  Treasure : 3\n",
            "*****\n",
            "*****\n",
            "TTTTT\n",
            "*****\n",
            "*****\n"
          ]
        }
      ]
    },
    {
      "cell_type": "code",
      "source": [],
      "metadata": {
        "id": "RsNGOuWgyKVz"
      },
      "execution_count": null,
      "outputs": []
    },
    {
      "cell_type": "code",
      "source": [],
      "metadata": {
        "id": "OX_DVFo1yKat"
      },
      "execution_count": null,
      "outputs": []
    },
    {
      "cell_type": "code",
      "source": [],
      "metadata": {
        "id": "-qirCUOMyKhD"
      },
      "execution_count": null,
      "outputs": []
    }
  ]
}